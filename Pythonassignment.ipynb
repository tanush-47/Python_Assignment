{
  "nbformat": 4,
  "nbformat_minor": 0,
  "metadata": {
    "colab": {
      "provenance": [],
      "authorship_tag": "ABX9TyMSrAMtGpQSBe+JnhR/ijkI",
      "include_colab_link": true
    },
    "kernelspec": {
      "name": "python3",
      "display_name": "Python 3"
    },
    "language_info": {
      "name": "python"
    }
  },
  "cells": [
    {
      "cell_type": "markdown",
      "metadata": {
        "id": "view-in-github",
        "colab_type": "text"
      },
      "source": [
        "<a href=\"https://colab.research.google.com/github/tanush-47/Python_Assignment/blob/main/Pythonassignment.ipynb\" target=\"_parent\"><img src=\"https://colab.research.google.com/assets/colab-badge.svg\" alt=\"Open In Colab\"/></a>"
      ]
    },
    {
      "cell_type": "markdown",
      "source": [
        "# **Q1. L is a list defined as L= [11, 12, 13, 14]**"
      ],
      "metadata": {
        "id": "Bk6DuMTp6QjA"
      }
    },
    {
      "cell_type": "markdown",
      "source": [
        "### (i) WAP to add 50 and 60 to L"
      ],
      "metadata": {
        "id": "w5k7Sx416mQ9"
      }
    },
    {
      "cell_type": "code",
      "source": [
        "L = [11, 12, 13, 14]\n",
        "L.extend([50, 60])  # You can also use L += [50, 60]\n",
        "print(\"After adding 50 and 60:\", L)\n"
      ],
      "metadata": {
        "id": "ATKRVNmN6x6D",
        "colab": {
          "base_uri": "https://localhost:8080/"
        },
        "outputId": "9c1a80f9-f2b9-471f-c3b4-49a0da11a6fa"
      },
      "execution_count": 93,
      "outputs": [
        {
          "output_type": "stream",
          "name": "stdout",
          "text": [
            "After adding 50 and 60: [11, 12, 13, 14, 50, 60]\n"
          ]
        }
      ]
    },
    {
      "cell_type": "markdown",
      "source": [
        "(ii) WAP to remove 11 and 13 from L"
      ],
      "metadata": {
        "id": "R1YzxTdS64tF"
      }
    },
    {
      "cell_type": "code",
      "source": [
        "L.remove(11)  # Removes the value 11\n",
        "L.remove(13)  # Removes the value 13\n",
        "print(\"After removing 11 and 13:\", L)\n"
      ],
      "metadata": {
        "id": "j-g0wksT69b1",
        "colab": {
          "base_uri": "https://localhost:8080/"
        },
        "outputId": "96bd1061-a89a-404c-9c8d-397b6adc5b55"
      },
      "execution_count": 94,
      "outputs": [
        {
          "output_type": "stream",
          "name": "stdout",
          "text": [
            "After removing 11 and 13: [12, 14, 50, 60]\n"
          ]
        }
      ]
    },
    {
      "cell_type": "markdown",
      "source": [
        "(iii) WAP to sort L in ascending order"
      ],
      "metadata": {
        "id": "SX8Pecqj7AdK"
      }
    },
    {
      "cell_type": "code",
      "source": [
        "L.sort()\n",
        "print(\"List sorted in ascending order:\", L)\n"
      ],
      "metadata": {
        "id": "RUr-zL7s7HiK",
        "colab": {
          "base_uri": "https://localhost:8080/"
        },
        "outputId": "ebd36415-ce1f-4ee5-bc15-97ae2d57da46"
      },
      "execution_count": 95,
      "outputs": [
        {
          "output_type": "stream",
          "name": "stdout",
          "text": [
            "List sorted in ascending order: [12, 14, 50, 60]\n"
          ]
        }
      ]
    },
    {
      "cell_type": "markdown",
      "source": [
        "(iv) WAP to sort L in descending order"
      ],
      "metadata": {
        "id": "F26xo5jV7Oh9"
      }
    },
    {
      "cell_type": "code",
      "source": [
        "L.sort(reverse=True)\n",
        "print(\"List sorted in descending order:\", L)\n"
      ],
      "metadata": {
        "id": "K9XBkwIG7Qxf",
        "colab": {
          "base_uri": "https://localhost:8080/"
        },
        "outputId": "5948b478-d7e7-4091-98a5-7889c2b877ca"
      },
      "execution_count": 96,
      "outputs": [
        {
          "output_type": "stream",
          "name": "stdout",
          "text": [
            "List sorted in descending order: [60, 50, 14, 12]\n"
          ]
        }
      ]
    },
    {
      "cell_type": "markdown",
      "source": [
        "(v) WAP to search for 13 in L"
      ],
      "metadata": {
        "id": "Z7FOKEoo7U-P"
      }
    },
    {
      "cell_type": "code",
      "source": [
        "if 13 in L:\n",
        "    print(\"13 is present in the list.\")\n",
        "else:\n",
        "    print(\"13 is not present in the list.\")\n"
      ],
      "metadata": {
        "id": "Sgd_-qVN7XqK",
        "colab": {
          "base_uri": "https://localhost:8080/"
        },
        "outputId": "79867d8d-528f-432f-b975-566bacf6340f"
      },
      "execution_count": 97,
      "outputs": [
        {
          "output_type": "stream",
          "name": "stdout",
          "text": [
            "13 is not present in the list.\n"
          ]
        }
      ]
    },
    {
      "cell_type": "markdown",
      "source": [
        "(vi) WAP to count the number of elements present in L\n"
      ],
      "metadata": {
        "id": "2YOyXfr97ajz"
      }
    },
    {
      "cell_type": "code",
      "source": [
        "print(\"Number of elements in the list:\", len(L))\n"
      ],
      "metadata": {
        "id": "3y8j7l3M7s_W",
        "colab": {
          "base_uri": "https://localhost:8080/"
        },
        "outputId": "f2cf01ee-8b89-4347-e265-29993eff4424"
      },
      "execution_count": 98,
      "outputs": [
        {
          "output_type": "stream",
          "name": "stdout",
          "text": [
            "Number of elements in the list: 4\n"
          ]
        }
      ]
    },
    {
      "cell_type": "markdown",
      "source": [
        "(vii) WAP to sum all the elements in L"
      ],
      "metadata": {
        "id": "h8kKVlb77vWn"
      }
    },
    {
      "cell_type": "code",
      "source": [
        "total_sum = sum(L)\n",
        "print(\"Sum of all elements:\", total_sum)\n"
      ],
      "metadata": {
        "id": "j2eI0M5w70HN",
        "colab": {
          "base_uri": "https://localhost:8080/"
        },
        "outputId": "3df63c9f-15f9-436b-c718-dfad487231ac"
      },
      "execution_count": 99,
      "outputs": [
        {
          "output_type": "stream",
          "name": "stdout",
          "text": [
            "Sum of all elements: 136\n"
          ]
        }
      ]
    },
    {
      "cell_type": "markdown",
      "source": [
        "(viii) WAP to sum all ODD numbers in L"
      ],
      "metadata": {
        "id": "R4J9khdA72TS"
      }
    },
    {
      "cell_type": "code",
      "source": [
        "odd_sum = sum(x for x in L if x % 2 != 0)\n",
        "print(\"Sum of odd numbers:\", odd_sum)\n"
      ],
      "metadata": {
        "id": "RusIl4WP76QD",
        "colab": {
          "base_uri": "https://localhost:8080/"
        },
        "outputId": "e6942257-9f73-48b1-fd8b-1673b6145f4b"
      },
      "execution_count": 100,
      "outputs": [
        {
          "output_type": "stream",
          "name": "stdout",
          "text": [
            "Sum of odd numbers: 0\n"
          ]
        }
      ]
    },
    {
      "cell_type": "markdown",
      "source": [
        "(ix) WAP to sum all EVEN numbers in L"
      ],
      "metadata": {
        "id": "k07IDqwU79jo"
      }
    },
    {
      "cell_type": "code",
      "source": [
        "even_sum = sum(x for x in L if x % 2 == 0)\n",
        "print(\"Sum of even numbers:\", even_sum)\n"
      ],
      "metadata": {
        "id": "2_6aZhOC8Bye",
        "colab": {
          "base_uri": "https://localhost:8080/"
        },
        "outputId": "ac5cb112-f8d1-4c4a-a0d5-817027e84cdf"
      },
      "execution_count": 101,
      "outputs": [
        {
          "output_type": "stream",
          "name": "stdout",
          "text": [
            "Sum of even numbers: 136\n"
          ]
        }
      ]
    },
    {
      "cell_type": "markdown",
      "source": [
        "(x) WAP to sum all PRIME numbers in L"
      ],
      "metadata": {
        "id": "duyZmoQO8DrV"
      }
    },
    {
      "cell_type": "code",
      "source": [
        "def is_prime(n):\n",
        "    if n <= 1:\n",
        "        return False\n",
        "    for i in range(2, int(n**0.5)+1):\n",
        "        if n % i == 0:\n",
        "            return False\n",
        "    return True\n",
        "\n",
        "prime_sum = sum(x for x in L if is_prime(x))\n",
        "print(\"Sum of prime numbers:\", prime_sum)\n"
      ],
      "metadata": {
        "id": "UEeZUIvm8Ibp",
        "colab": {
          "base_uri": "https://localhost:8080/"
        },
        "outputId": "59c0c64c-67a4-4476-bc85-33ce15ee9af5"
      },
      "execution_count": 102,
      "outputs": [
        {
          "output_type": "stream",
          "name": "stdout",
          "text": [
            "Sum of prime numbers: 0\n"
          ]
        }
      ]
    },
    {
      "cell_type": "markdown",
      "source": [
        "(xi) WAP to clear all the elements in L"
      ],
      "metadata": {
        "id": "9TgesvNd8bHW"
      }
    },
    {
      "cell_type": "code",
      "source": [
        "L.clear()\n",
        "print(\"List after clearing all elements:\", L)\n"
      ],
      "metadata": {
        "id": "fG3acPWe8b1W",
        "colab": {
          "base_uri": "https://localhost:8080/"
        },
        "outputId": "934a2232-0498-46d1-dfe6-6278f63666b7"
      },
      "execution_count": 103,
      "outputs": [
        {
          "output_type": "stream",
          "name": "stdout",
          "text": [
            "List after clearing all elements: []\n"
          ]
        }
      ]
    },
    {
      "cell_type": "markdown",
      "source": [
        "WAP to delete L\n"
      ],
      "metadata": {
        "id": "4phAGeiO8jtL"
      }
    },
    {
      "cell_type": "code",
      "source": [
        "del L\n",
        "print(\"List L has been deleted.\")\n"
      ],
      "metadata": {
        "id": "ku5kKVfr8nXl",
        "colab": {
          "base_uri": "https://localhost:8080/"
        },
        "outputId": "6dece161-30ea-4b24-f656-6620a8cc3851"
      },
      "execution_count": 104,
      "outputs": [
        {
          "output_type": "stream",
          "name": "stdout",
          "text": [
            "List L has been deleted.\n"
          ]
        }
      ]
    },
    {
      "cell_type": "markdown",
      "source": [
        "# Q2. Dictionary Operations"
      ],
      "metadata": {
        "id": "fG4_5zN18z-2"
      }
    },
    {
      "cell_type": "markdown",
      "source": [
        "### D is a dictionary defined as D= {1:5.6, 2:7.8, 3:6.6, 4:8.7, 5:7.7}\n",
        "\n"
      ],
      "metadata": {
        "id": "IslMLVhE9gE1"
      }
    },
    {
      "cell_type": "code",
      "source": [
        "# Initial dictionary\n",
        "D = {1: 5.6, 2: 7.8, 3: 6.6, 4: 8.7, 5: 7.7}\n"
      ],
      "metadata": {
        "id": "SLJo_CVj-ccU"
      },
      "execution_count": 105,
      "outputs": []
    },
    {
      "cell_type": "markdown",
      "source": [],
      "metadata": {
        "id": "cpypdpv7-ehx"
      }
    },
    {
      "cell_type": "markdown",
      "source": [
        "(i) WAP to add new entry in D; key=8 and value is 8.8"
      ],
      "metadata": {
        "id": "YSskosfp-ejW"
      }
    },
    {
      "cell_type": "code",
      "source": [
        "D[8] = 8.8\n",
        "print(\"After adding key=8 and value=8.8:\", D)\n"
      ],
      "metadata": {
        "id": "EEmHc71S-lAk",
        "colab": {
          "base_uri": "https://localhost:8080/"
        },
        "outputId": "16a5e556-0998-42c4-9c71-ff8917622cfb"
      },
      "execution_count": 106,
      "outputs": [
        {
          "output_type": "stream",
          "name": "stdout",
          "text": [
            "After adding key=8 and value=8.8: {1: 5.6, 2: 7.8, 3: 6.6, 4: 8.7, 5: 7.7, 8: 8.8}\n"
          ]
        }
      ]
    },
    {
      "cell_type": "markdown",
      "source": [
        "(ii) WAP to remove key=2"
      ],
      "metadata": {
        "id": "Cym6xdTh-nYu"
      }
    },
    {
      "cell_type": "code",
      "source": [
        "if 2 in D:\n",
        "    del D[2]\n",
        "    print(\"After removing key=2:\", D)\n",
        "else:\n",
        "    print(\"Key=2 not found in dictionary.\")\n"
      ],
      "metadata": {
        "id": "ZVZ4Cfvf-tIg",
        "colab": {
          "base_uri": "https://localhost:8080/"
        },
        "outputId": "d9a8c4c8-68cf-4ff3-8e48-9d97e2afb27c"
      },
      "execution_count": 107,
      "outputs": [
        {
          "output_type": "stream",
          "name": "stdout",
          "text": [
            "After removing key=2: {1: 5.6, 3: 6.6, 4: 8.7, 5: 7.7, 8: 8.8}\n"
          ]
        }
      ]
    },
    {
      "cell_type": "markdown",
      "source": [
        "(iii) WAP to check whether key=6 is present in D"
      ],
      "metadata": {
        "id": "xx6K9Bow-wtt"
      }
    },
    {
      "cell_type": "code",
      "source": [
        "if 6 in D:\n",
        "    print(\"Key 6 is present in the dictionary.\")\n",
        "else:\n",
        "    print(\"Key 6 is not present in the dictionary.\")\n"
      ],
      "metadata": {
        "id": "8uF-kkHU--Us",
        "colab": {
          "base_uri": "https://localhost:8080/"
        },
        "outputId": "4b058406-2fcf-405d-a908-153154b4f0f5"
      },
      "execution_count": 108,
      "outputs": [
        {
          "output_type": "stream",
          "name": "stdout",
          "text": [
            "Key 6 is not present in the dictionary.\n"
          ]
        }
      ]
    },
    {
      "cell_type": "markdown",
      "source": [
        "(iv) WAP to count the number of elements present in D"
      ],
      "metadata": {
        "id": "AAkEYezD_AGR"
      }
    },
    {
      "cell_type": "code",
      "source": [
        "print(\"Number of elements in dictionary:\", len(D))\n"
      ],
      "metadata": {
        "id": "2FviCNPm_EiR",
        "colab": {
          "base_uri": "https://localhost:8080/"
        },
        "outputId": "821b39d7-6d56-43f7-dc5d-77a2c7644bcb"
      },
      "execution_count": 109,
      "outputs": [
        {
          "output_type": "stream",
          "name": "stdout",
          "text": [
            "Number of elements in dictionary: 5\n"
          ]
        }
      ]
    },
    {
      "cell_type": "markdown",
      "source": [
        "(v) WAP to add all the values present in D"
      ],
      "metadata": {
        "id": "jjhvrEaq_GT1"
      }
    },
    {
      "cell_type": "code",
      "source": [
        "total_value = sum(D.values())\n",
        "print(\"Sum of all values in dictionary:\", total_value)\n"
      ],
      "metadata": {
        "id": "5s3pApp5_JSN",
        "colab": {
          "base_uri": "https://localhost:8080/"
        },
        "outputId": "5795a71a-e131-4a74-b9f8-69df679aff05"
      },
      "execution_count": 110,
      "outputs": [
        {
          "output_type": "stream",
          "name": "stdout",
          "text": [
            "Sum of all values in dictionary: 37.4\n"
          ]
        }
      ]
    },
    {
      "cell_type": "markdown",
      "source": [
        "(vi) WAP to update the value of key=3 to 7.1"
      ],
      "metadata": {
        "id": "GL0eX_JQ_LUt"
      }
    },
    {
      "cell_type": "code",
      "source": [
        "if 3 in D:\n",
        "    D[3] = 7.1\n",
        "    print(\"After updating value of key=3 to 7.1:\", D)\n",
        "else:\n",
        "    print(\"Key=3 not found.\")\n"
      ],
      "metadata": {
        "id": "72NdZGjN_Q3m",
        "colab": {
          "base_uri": "https://localhost:8080/"
        },
        "outputId": "44bfc2f4-2272-4841-cf47-29fc0d56ee90"
      },
      "execution_count": 111,
      "outputs": [
        {
          "output_type": "stream",
          "name": "stdout",
          "text": [
            "After updating value of key=3 to 7.1: {1: 5.6, 3: 7.1, 4: 8.7, 5: 7.7, 8: 8.8}\n"
          ]
        }
      ]
    },
    {
      "cell_type": "markdown",
      "source": [
        "(vii) WAP to clear the dictionary"
      ],
      "metadata": {
        "id": "E2WA5UrI_UUK"
      }
    },
    {
      "cell_type": "code",
      "source": [
        "D.clear()\n",
        "print(\"Dictionary after clearing:\", D)\n"
      ],
      "metadata": {
        "id": "fNAWMPjj_XMy",
        "colab": {
          "base_uri": "https://localhost:8080/"
        },
        "outputId": "fc7ea2b6-1a84-4582-af20-a69f9f368cdd"
      },
      "execution_count": 112,
      "outputs": [
        {
          "output_type": "stream",
          "name": "stdout",
          "text": [
            "Dictionary after clearing: {}\n"
          ]
        }
      ]
    },
    {
      "cell_type": "markdown",
      "source": [
        "# Q3. Sets"
      ],
      "metadata": {
        "id": "qjcxGQX8__Mh"
      }
    },
    {
      "cell_type": "markdown",
      "source": [
        "### S1 = {10, 20, 30, 40, 50, 60}\n",
        "### S2 = {40, 50, 60, 70, 80, 90}\n"
      ],
      "metadata": {
        "id": "Yo37lNh8Ay9K"
      }
    },
    {
      "cell_type": "markdown",
      "source": [
        "(i) Add 55 and 66 in Set S1"
      ],
      "metadata": {
        "id": "6Gq0bM9-A-MA"
      }
    },
    {
      "cell_type": "code",
      "source": [
        "S1.add(55)\n",
        "S1.add(66)\n",
        "print(\"After adding 55 and 66 to S1:\", S1)\n"
      ],
      "metadata": {
        "id": "o4o60SkBAoy7",
        "colab": {
          "base_uri": "https://localhost:8080/"
        },
        "outputId": "c860ef7b-bd52-4f56-8613-1254e2109074"
      },
      "execution_count": 113,
      "outputs": [
        {
          "output_type": "stream",
          "name": "stdout",
          "text": [
            "After adding 55 and 66 to S1: {50, 66, 20, 55, 40, 10, 60, 30}\n"
          ]
        }
      ]
    },
    {
      "cell_type": "markdown",
      "source": [
        "(ii) Remove 10 and 30 from Set S1"
      ],
      "metadata": {
        "id": "ifvhGgjVBSA-"
      }
    },
    {
      "cell_type": "code",
      "source": [
        "S1.remove(10)\n",
        "S1.remove(30)\n",
        "print(\"After removing 10 and 30 from S1:\", S1)\n"
      ],
      "metadata": {
        "id": "3NlOjFHJBWn-",
        "colab": {
          "base_uri": "https://localhost:8080/"
        },
        "outputId": "3c357c87-051b-4f9c-f18f-48d2183edfa1"
      },
      "execution_count": 114,
      "outputs": [
        {
          "output_type": "stream",
          "name": "stdout",
          "text": [
            "After removing 10 and 30 from S1: {50, 66, 20, 55, 40, 60}\n"
          ]
        }
      ]
    },
    {
      "cell_type": "markdown",
      "source": [
        "(iii) Check whether 40 is present in S1"
      ],
      "metadata": {
        "id": "F1cmFxtNBcuU"
      }
    },
    {
      "cell_type": "code",
      "source": [
        "if 40 in S1:\n",
        "    print(\"40 is present in S1.\")\n",
        "else:\n",
        "    print(\"40 is not present in S1.\")\n"
      ],
      "metadata": {
        "id": "kES-zNj8BgHU",
        "colab": {
          "base_uri": "https://localhost:8080/"
        },
        "outputId": "ccf0ac59-0baa-46bf-9e94-fca6e8a6dc8d"
      },
      "execution_count": 115,
      "outputs": [
        {
          "output_type": "stream",
          "name": "stdout",
          "text": [
            "40 is present in S1.\n"
          ]
        }
      ]
    },
    {
      "cell_type": "markdown",
      "source": [
        "(iv) Find the union between S1 and S2"
      ],
      "metadata": {
        "id": "3IX6Oy67BniE"
      }
    },
    {
      "cell_type": "code",
      "source": [
        "union_set = S1.union(S2)  # or S1 | S2\n",
        "print(\"Union of S1 and S2:\", union_set)\n"
      ],
      "metadata": {
        "id": "vqq7vG2TBs4a",
        "colab": {
          "base_uri": "https://localhost:8080/"
        },
        "outputId": "86191f91-0ae5-44e2-9064-17e81221b53a"
      },
      "execution_count": 116,
      "outputs": [
        {
          "output_type": "stream",
          "name": "stdout",
          "text": [
            "Union of S1 and S2: {66, 70, 40, 80, 50, 20, 55, 90, 60}\n"
          ]
        }
      ]
    },
    {
      "cell_type": "markdown",
      "source": [
        "(v) Find the intersection between S1 and S2"
      ],
      "metadata": {
        "id": "yUdMhL0sBuzo"
      }
    },
    {
      "cell_type": "code",
      "source": [
        "intersection_set = S1.intersection(S2)  # or S1 & S2\n",
        "print(\"Intersection of S1 and S2:\", intersection_set)\n"
      ],
      "metadata": {
        "id": "Bgg39j-pByA-",
        "colab": {
          "base_uri": "https://localhost:8080/"
        },
        "outputId": "2e06005c-14a9-45da-c1a4-0edd561464cd"
      },
      "execution_count": 117,
      "outputs": [
        {
          "output_type": "stream",
          "name": "stdout",
          "text": [
            "Intersection of S1 and S2: {40, 50, 60}\n"
          ]
        }
      ]
    },
    {
      "cell_type": "markdown",
      "source": [
        "(vi) Find the difference S1 - S2"
      ],
      "metadata": {
        "id": "vy31S7NsB1vO"
      }
    },
    {
      "cell_type": "code",
      "source": [
        "difference_set = S1.difference(S2)  # or S1 - S2\n",
        "print(\"Difference (S1 - S2):\", difference_set)\n"
      ],
      "metadata": {
        "id": "ocuvrXsAB8dr",
        "colab": {
          "base_uri": "https://localhost:8080/"
        },
        "outputId": "20af41f4-7b41-4a7d-f287-43564f21ee99"
      },
      "execution_count": 118,
      "outputs": [
        {
          "output_type": "stream",
          "name": "stdout",
          "text": [
            "Difference (S1 - S2): {66, 20, 55}\n"
          ]
        }
      ]
    },
    {
      "cell_type": "markdown",
      "source": [
        "✅ Final Sample Output (depends on current state of sets):"
      ],
      "metadata": {
        "id": "CjVaKqJ3CCMf"
      }
    },
    {
      "cell_type": "code",
      "source": [
        "After adding 55 and 66 to S1: {66, 40, 10, 50, 20, 55, 60, 30}\n",
        "After removing 10 and 30 from S1: {66, 40, 50, 20, 55, 60}\n",
        "40 is present in S1.\n",
        "Union of S1 and S2: {66, 70, 40, 10, 80, 50, 20, 55, 90, 60, 30}\n",
        "Intersection of S1 and S2: {40, 50, 60}\n",
        "Difference (S1 - S2): {66, 20, 55}\n"
      ],
      "metadata": {
        "id": "zaUj3z9MCFek",
        "colab": {
          "base_uri": "https://localhost:8080/",
          "height": 106
        },
        "outputId": "d55a2fbe-3ac5-460a-d741-4a1819e226f3"
      },
      "execution_count": 119,
      "outputs": [
        {
          "output_type": "error",
          "ename": "SyntaxError",
          "evalue": "invalid syntax (ipython-input-119-1232182291.py, line 1)",
          "traceback": [
            "\u001b[0;36m  File \u001b[0;32m\"/tmp/ipython-input-119-1232182291.py\"\u001b[0;36m, line \u001b[0;32m1\u001b[0m\n\u001b[0;31m    After adding 55 and 66 to S1: {66, 40, 10, 50, 20, 55, 60, 30}\u001b[0m\n\u001b[0m          ^\u001b[0m\n\u001b[0;31mSyntaxError\u001b[0m\u001b[0;31m:\u001b[0m invalid syntax\n"
          ]
        }
      ]
    },
    {
      "cell_type": "markdown",
      "source": [
        "# Q4. Write the following program"
      ],
      "metadata": {
        "id": "WfQMYoccUcZ1"
      }
    },
    {
      "cell_type": "markdown",
      "source": [
        "(i) WAP to print 100 random strings whose length between 6 and 8"
      ],
      "metadata": {
        "id": "mLPvTGPyYxcQ"
      }
    },
    {
      "cell_type": "code",
      "source": [
        "import random\n",
        "import string\n",
        "\n",
        "for _ in range(100):\n",
        "    length = random.randint(6, 8)\n",
        "    random_str = ''.join(random.choices(string.ascii_letters + string.digits, k=length))\n",
        "    print(random_str)\n"
      ],
      "metadata": {
        "id": "bSTJ_xl9Y3V3",
        "colab": {
          "base_uri": "https://localhost:8080/"
        },
        "outputId": "f69a11c2-78bf-4434-c6b6-ee0b4d2aacd1"
      },
      "execution_count": 137,
      "outputs": [
        {
          "output_type": "stream",
          "name": "stdout",
          "text": [
            "31bwttE\n",
            "JZYTlh6\n",
            "4NdTMk1F\n",
            "1YqGRv\n",
            "vSixmQfA\n",
            "PYaLTjNN\n",
            "chkYX1Ba\n",
            "3VgZ5AZm\n",
            "Xx95Kp\n",
            "IOHquoh\n",
            "aAYhw8H\n",
            "btKfyv\n",
            "1bS4oBnS\n",
            "68YNKQp\n",
            "Dua3a30\n",
            "snBmn9v\n",
            "tVMLotZ\n",
            "H3i7R0\n",
            "9qTnIxf\n",
            "T2VSvXv\n",
            "2XQxWqgI\n",
            "9t9h9fQx\n",
            "8TcE0B7H\n",
            "PRoXa0IZ\n",
            "vzCrTZ7\n",
            "fuxESR\n",
            "BHP1dm\n",
            "xXv41Xxg\n",
            "BNxKjLg\n",
            "4nsoUCsE\n",
            "GhqwiWF\n",
            "PzmfBaWz\n",
            "U11yzno8\n",
            "PhCknE5\n",
            "9fYbljV\n",
            "GHjZmFg\n",
            "q5xgJHJ\n",
            "rr2pDeH\n",
            "SsGiUk\n",
            "VF8JrsV\n",
            "bhQgVr\n",
            "xKwzkW3d\n",
            "T3lvK9\n",
            "PzDifS\n",
            "5eZyUh\n",
            "eZqUdcs\n",
            "NdjZZl\n",
            "UScM3Bw\n",
            "o7Rsxyy\n",
            "U394Jc3E\n",
            "kTzvCHx\n",
            "jfREd42K\n",
            "pUUtmB1\n",
            "gDb1nuG\n",
            "R4tzjDrb\n",
            "Py6Gl8f\n",
            "KK5xtoGU\n",
            "2sAUhqpB\n",
            "bqeor7D\n",
            "cVIDrBJj\n",
            "qAe0D8\n",
            "O87oqsnj\n",
            "NqeJ3wF\n",
            "DU8sx07\n",
            "1nBkKind\n",
            "ecynfe\n",
            "C0jULbQy\n",
            "E4SHK49\n",
            "G2pYVD\n",
            "HNMWA3d\n",
            "yMxLmGjn\n",
            "htTGh2PR\n",
            "KkxP6h\n",
            "EdWi0s\n",
            "Z57rS5H\n",
            "Sfz5d7\n",
            "vgqELYB\n",
            "pP7dlA\n",
            "1XImbyVg\n",
            "K5nqIe\n",
            "dvsepwe\n",
            "RmILlbv\n",
            "uqho0ffw\n",
            "5yaDq2\n",
            "srgHKZsl\n",
            "XgBYwQ\n",
            "JtDBPQT\n",
            "QXYSsR\n",
            "KtYaQ0R\n",
            "WxXLBabK\n",
            "0U5ZgDcK\n",
            "nmhtCJrO\n",
            "oVZ81c6\n",
            "tIDAlLCp\n",
            "k7v9n9bE\n",
            "04KoAVdo\n",
            "Dinr8m\n",
            "iQAkme\n",
            "8PlZfwej\n",
            "tBoQU64a\n"
          ]
        }
      ]
    },
    {
      "cell_type": "markdown",
      "source": [
        "(ii) WAP to print all prime numbers between 600 and 800"
      ],
      "metadata": {
        "id": "fPHNBxPwY7oh"
      }
    },
    {
      "cell_type": "code",
      "source": [
        "def is_prime(n):\n",
        "    if n <= 1:\n",
        "        return False\n",
        "    for i in range(2, int(n**0.5) + 1):\n",
        "        if n % i == 0:\n",
        "            return False\n",
        "    return True\n",
        "\n",
        "for num in range(600, 801):\n",
        "    if is_prime(num):\n",
        "        print(num, end=' ')\n"
      ],
      "metadata": {
        "id": "JHG2aDzDY-oU",
        "colab": {
          "base_uri": "https://localhost:8080/"
        },
        "outputId": "ffdbe1cd-3fc3-4052-b1f6-c093e272bcad"
      },
      "execution_count": 120,
      "outputs": [
        {
          "output_type": "stream",
          "name": "stdout",
          "text": [
            "601 607 613 617 619 631 641 643 647 653 659 661 673 677 683 691 701 709 719 727 733 739 743 751 757 761 769 773 787 797 "
          ]
        }
      ]
    },
    {
      "cell_type": "markdown",
      "source": [
        "(iii) WAP to print all numbers between 100 and 1000 that are divisible by both 7 and 9"
      ],
      "metadata": {
        "id": "f0TOQ_VzZA5-"
      }
    },
    {
      "cell_type": "code",
      "source": [
        "for num in range(100, 1001):\n",
        "    if num % 7 == 0 and num % 9 == 0:\n",
        "        print(num, end=' ')\n"
      ],
      "metadata": {
        "id": "74LnwtC4ZEY_",
        "colab": {
          "base_uri": "https://localhost:8080/"
        },
        "outputId": "224eaf82-ab4b-42dc-b54f-9feab5153398"
      },
      "execution_count": 121,
      "outputs": [
        {
          "output_type": "stream",
          "name": "stdout",
          "text": [
            "126 189 252 315 378 441 504 567 630 693 756 819 882 945 "
          ]
        }
      ]
    },
    {
      "cell_type": "markdown",
      "source": [
        "# Q5. Create two lists of 10 random numbers between 10 and 30 and perform operations"
      ],
      "metadata": {
        "id": "vD9JGH6fZGf9"
      }
    },
    {
      "cell_type": "code",
      "source": [
        "# Generate two lists of 10 random numbers between 10 and 30\n",
        "list1 = [random.randint(10, 30) for _ in range(10)]\n",
        "list2 = [random.randint(10, 30) for _ in range(10)]\n",
        "\n",
        "print(\"List 1:\", list1)\n",
        "print(\"List 2:\", list2)"
      ],
      "metadata": {
        "id": "EiDT799NZ59x",
        "colab": {
          "base_uri": "https://localhost:8080/"
        },
        "outputId": "3013b7ac-c053-4037-a590-93063507bd60"
      },
      "execution_count": 122,
      "outputs": [
        {
          "output_type": "stream",
          "name": "stdout",
          "text": [
            "List 1: [18, 30, 28, 10, 23, 22, 18, 21, 22, 21]\n",
            "List 2: [17, 14, 23, 19, 20, 29, 17, 22, 23, 22]\n"
          ]
        }
      ]
    },
    {
      "cell_type": "markdown",
      "source": [
        "(i) Common numbers in the two lists"
      ],
      "metadata": {
        "id": "0lggLYwVZ6zv"
      }
    },
    {
      "cell_type": "code",
      "source": [
        "common = list(set(list1) & set(list2))\n",
        "print(\"\\n(i) Common numbers:\", common)"
      ],
      "metadata": {
        "id": "AVNE2YYxZ_uT",
        "colab": {
          "base_uri": "https://localhost:8080/"
        },
        "outputId": "2df64957-8ca5-4974-a942-bf65fbd825fa"
      },
      "execution_count": 123,
      "outputs": [
        {
          "output_type": "stream",
          "name": "stdout",
          "text": [
            "\n",
            "(i) Common numbers: [22, 23]\n"
          ]
        }
      ]
    },
    {
      "cell_type": "markdown",
      "source": [
        "(ii) Unique numbers in both the lists"
      ],
      "metadata": {
        "id": "5HSSXZD2aEsP"
      }
    },
    {
      "cell_type": "code",
      "source": [
        "unique = list(set(list1) ^ set(list2))  # symmetric difference\n",
        "print(\"(ii) Unique numbers in both lists:\", unique)"
      ],
      "metadata": {
        "id": "8_blQWSlaM_l",
        "colab": {
          "base_uri": "https://localhost:8080/"
        },
        "outputId": "ea1e5a21-12ec-43de-d361-0957c8fa34e6"
      },
      "execution_count": 124,
      "outputs": [
        {
          "output_type": "stream",
          "name": "stdout",
          "text": [
            "(ii) Unique numbers in both lists: [10, 14, 17, 18, 19, 20, 21, 28, 29, 30]\n"
          ]
        }
      ]
    },
    {
      "cell_type": "markdown",
      "source": [
        "(iii) Minimum in both the lists"
      ],
      "metadata": {
        "id": "LedLb_u6aRTd"
      }
    },
    {
      "cell_type": "code",
      "source": [
        "print(\"(iii) Minimum in List 1:\", min(list1))\n",
        "print(\"      Minimum in List 2:\", min(list2))"
      ],
      "metadata": {
        "id": "gEJXfxpIaUWZ",
        "colab": {
          "base_uri": "https://localhost:8080/"
        },
        "outputId": "bb12bbca-5d06-446a-9b2a-35cf9db959d5"
      },
      "execution_count": 125,
      "outputs": [
        {
          "output_type": "stream",
          "name": "stdout",
          "text": [
            "(iii) Minimum in List 1: 10\n",
            "      Minimum in List 2: 14\n"
          ]
        }
      ]
    },
    {
      "cell_type": "markdown",
      "source": [
        "(iv) Maximum in both the lists"
      ],
      "metadata": {
        "id": "4hYAlbfUaetk"
      }
    },
    {
      "cell_type": "code",
      "source": [
        "print(\"(iv) Maximum in List 1:\", max(list1))\n",
        "print(\"      Maximum in List 2:\", max(list2))"
      ],
      "metadata": {
        "id": "8BUIq0_AalY7",
        "colab": {
          "base_uri": "https://localhost:8080/"
        },
        "outputId": "4802f308-34ee-428a-f31d-ee3ae8cab341"
      },
      "execution_count": 126,
      "outputs": [
        {
          "output_type": "stream",
          "name": "stdout",
          "text": [
            "(iv) Maximum in List 1: 30\n",
            "      Maximum in List 2: 29\n"
          ]
        }
      ]
    },
    {
      "cell_type": "markdown",
      "source": [
        " (v) Sum of both the lists"
      ],
      "metadata": {
        "id": "_Z5aOV_8auB9"
      }
    },
    {
      "cell_type": "code",
      "source": [
        "print(\"(v) Sum of List 1:\", sum(list1))\n",
        "print(\"    Sum of List 2:\", sum(list2))"
      ],
      "metadata": {
        "id": "sFOijMnYavCK",
        "colab": {
          "base_uri": "https://localhost:8080/"
        },
        "outputId": "a43afbae-c605-485d-8736-2d5822bf4f52"
      },
      "execution_count": 127,
      "outputs": [
        {
          "output_type": "stream",
          "name": "stdout",
          "text": [
            "(v) Sum of List 1: 213\n",
            "    Sum of List 2: 206\n"
          ]
        }
      ]
    },
    {
      "cell_type": "markdown",
      "source": [],
      "metadata": {
        "id": "J4eHAnDK-vLR"
      }
    },
    {
      "cell_type": "markdown",
      "source": [
        "# Q6. WAP to create a list of 100 random numbers between 100 and 900."
      ],
      "metadata": {
        "id": "qtrVs7h7-vNz"
      }
    },
    {
      "cell_type": "markdown",
      "source": [
        "Count and print the:\n",
        "(i) All odd numbers\n",
        "(ii) All even numbers\n",
        "(iii) All prime numbers"
      ],
      "metadata": {
        "id": "nfMfeJlO-8Zb"
      }
    },
    {
      "cell_type": "code",
      "source": [
        "import random\n",
        "\n",
        "# Function to check if a number is prime\n",
        "def is_prime(n):\n",
        "    if n < 2:\n",
        "        return False\n",
        "    for i in range(2, int(n**0.5)+1):\n",
        "        if n % i == 0:\n",
        "            return False\n",
        "    return True\n",
        "\n",
        "# Step 1: Generate 100 random numbers between 100 and 900\n",
        "random_numbers = [random.randint(100, 900) for _ in range(100)]\n",
        "\n",
        "# Step 2: Classify numbers\n",
        "odd_numbers = [num for num in random_numbers if num % 2 != 0]\n",
        "even_numbers = [num for num in random_numbers if num % 2 == 0]\n",
        "prime_numbers = [num for num in random_numbers if is_prime(num)]\n",
        "\n",
        "# Step 3: Display results\n",
        "print(\"Original List of 100 Random Numbers:\")\n",
        "print(random_numbers)\n",
        "\n",
        "print(\"\\n(i) Odd Numbers ({} total):\".format(len(odd_numbers)))\n",
        "print(odd_numbers)\n",
        "\n",
        "print(\"\\n(ii) Even Numbers ({} total):\".format(len(even_numbers)))\n",
        "print(even_numbers)\n",
        "\n",
        "print(\"\\n(iii) Prime Numbers ({} total):\".format(len(prime_numbers)))\n",
        "print(prime_numbers)\n"
      ],
      "metadata": {
        "id": "VPmW_ctT_B2d",
        "colab": {
          "base_uri": "https://localhost:8080/"
        },
        "outputId": "2daca4e3-ed62-41a7-a78f-e8c5f0c1478a"
      },
      "execution_count": 128,
      "outputs": [
        {
          "output_type": "stream",
          "name": "stdout",
          "text": [
            "Original List of 100 Random Numbers:\n",
            "[758, 214, 443, 811, 162, 390, 543, 359, 849, 608, 471, 796, 242, 819, 787, 700, 562, 801, 778, 529, 609, 250, 700, 543, 368, 428, 424, 503, 203, 780, 138, 861, 786, 140, 817, 731, 302, 582, 407, 560, 213, 352, 418, 557, 770, 768, 203, 457, 176, 406, 357, 519, 720, 482, 748, 839, 686, 220, 134, 393, 363, 396, 481, 470, 495, 425, 722, 268, 401, 381, 122, 726, 328, 720, 602, 774, 255, 730, 310, 753, 821, 897, 197, 862, 318, 569, 482, 583, 380, 203, 657, 314, 819, 386, 239, 775, 827, 430, 709, 408]\n",
            "\n",
            "(i) Odd Numbers (46 total):\n",
            "[443, 811, 543, 359, 849, 471, 819, 787, 801, 529, 609, 543, 503, 203, 861, 817, 731, 407, 213, 557, 203, 457, 357, 519, 839, 393, 363, 481, 495, 425, 401, 381, 255, 753, 821, 897, 197, 569, 583, 203, 657, 819, 239, 775, 827, 709]\n",
            "\n",
            "(ii) Even Numbers (54 total):\n",
            "[758, 214, 162, 390, 608, 796, 242, 700, 562, 778, 250, 700, 368, 428, 424, 780, 138, 786, 140, 302, 582, 560, 352, 418, 770, 768, 176, 406, 720, 482, 748, 686, 220, 134, 396, 470, 722, 268, 122, 726, 328, 720, 602, 774, 730, 310, 862, 318, 482, 380, 314, 386, 430, 408]\n",
            "\n",
            "(iii) Prime Numbers (15 total):\n",
            "[443, 811, 359, 787, 503, 557, 457, 839, 401, 821, 197, 569, 239, 827, 709]\n"
          ]
        }
      ]
    },
    {
      "cell_type": "markdown",
      "source": [
        "## Q7 Dictionaries"
      ],
      "metadata": {
        "id": "-a0cF5EzA-N9"
      }
    },
    {
      "cell_type": "markdown",
      "source": [
        "D is a dictionary defined as D={1:\"One\",2:\"Two\",3:\"Three\",4:\"Four\", 5:\"Five\"}.\n",
        " WAP to read all the keys and values from dictionary and write to the file in the given below format.\n",
        "Key1, Value1\n",
        "Key2, Value2\n",
        "Key3, Value3"
      ],
      "metadata": {
        "id": "CnO9Jk77BFqL"
      }
    },
    {
      "cell_type": "code",
      "source": [
        "# Define the dictionary\n",
        "D = {1: \"One\", 2: \"Two\", 3: \"Three\", 4: \"Four\", 5: \"Five\"}\n",
        "\n",
        "# Open a file in write mode\n",
        "with open(\"dictionary_output.txt\", \"w\") as file:\n",
        "    # Write each key-value pair in required format\n",
        "    for key, value in D.items():\n",
        "        file.write(f\"Key{key}, Value{key}\\n\")\n"
      ],
      "metadata": {
        "id": "5oS1Pv74BX5j"
      },
      "execution_count": 129,
      "outputs": []
    },
    {
      "cell_type": "markdown",
      "source": [
        "# Q8. List"
      ],
      "metadata": {
        "id": "tw_w6zUYB2Iw"
      }
    },
    {
      "cell_type": "markdown",
      "source": [
        "L is a list defined as L={\"One\",\"Two\",\"Three\",\"Four\",\"Five\"}.\n",
        " WAP to count the length of reach element from a list and write to the file in the given below format:\n",
        "One, 1\n",
        "Two, 2\n",
        "Four,4\n"
      ],
      "metadata": {
        "id": "yo5VTjqYHtlU"
      }
    },
    {
      "cell_type": "code",
      "source": [
        "# Step 1: Define the list\n",
        "L = [\"One\", \"Two\", \"Three\", \"Four\", \"Five\"]\n",
        "\n",
        "# Step 2: Open the file to write\n",
        "with open(\"length_output.txt\", \"w\") as file:\n",
        "    # Step 3: Loop through each word and write its length\n",
        "    for word in L:\n",
        "        file.write(f\"{word}, {len(word)}\\n\")\n",
        "\n",
        "print(\"✅ Lengths of list elements written to 'length_output.txt' successfully.\")\n"
      ],
      "metadata": {
        "id": "hiwdSjY0H9rq",
        "colab": {
          "base_uri": "https://localhost:8080/"
        },
        "outputId": "f62f8f10-2ec0-4647-f20e-40ebc671dc6e"
      },
      "execution_count": 130,
      "outputs": [
        {
          "output_type": "stream",
          "name": "stdout",
          "text": [
            "✅ Lengths of list elements written to 'length_output.txt' successfully.\n"
          ]
        }
      ]
    },
    {
      "cell_type": "markdown",
      "source": [
        "# Q9. Write to the file 100 random strings whose length between 10 and 15"
      ],
      "metadata": {
        "id": "yeoToe5FH-k3"
      }
    },
    {
      "cell_type": "code",
      "source": [
        "import random\n",
        "import string\n",
        "\n",
        "# Step 1: Open a file to write\n",
        "with open(\"random_strings.txt\", \"w\") as file:\n",
        "    # Step 2: Generate and write 100 random strings\n",
        "    for _ in range(100):\n",
        "        length = random.randint(10, 15)  # Random length between 10 and 15\n",
        "        random_string = ''.join(random.choices(string.ascii_letters + string.digits, k=length))\n",
        "        file.write(random_string + \"\\n\")\n",
        "\n",
        "print(\"100 random strings written to 'random_strings.txt'.\")\n"
      ],
      "metadata": {
        "id": "OYcLPcJVIMZG",
        "colab": {
          "base_uri": "https://localhost:8080/"
        },
        "outputId": "834545cd-3a7b-4b7d-e04e-110b7a872dba"
      },
      "execution_count": 131,
      "outputs": [
        {
          "output_type": "stream",
          "name": "stdout",
          "text": [
            "100 random strings written to 'random_strings.txt'.\n"
          ]
        }
      ]
    },
    {
      "cell_type": "markdown",
      "source": [
        "# 10. Write to the file all prime numbers between 600 and 800."
      ],
      "metadata": {
        "id": "XSn1H96-Iigx"
      }
    },
    {
      "cell_type": "code",
      "source": [
        "# Function to check if a number is prime\n",
        "def is_prime(n):\n",
        "    if n < 2:\n",
        "        return False\n",
        "    for i in range(2, int(n**0.5) + 1):\n",
        "        if n % i == 0:\n",
        "            return False\n",
        "    return True\n",
        "\n",
        "# Open the file to write\n",
        "with open(\"prime_600_to_800.txt\", \"w\") as file:\n",
        "    # Loop through numbers from 600 to 800\n",
        "    for number in range(600, 801):\n",
        "        if is_prime(number):\n",
        "            file.write(str(number) + \"\\n\")\n",
        "\n",
        "print(\" All prime numbers between 600 and 800 written to 'prime_600_to_800.txt'.\")\n"
      ],
      "metadata": {
        "id": "sWz1IcFIIsgf",
        "colab": {
          "base_uri": "https://localhost:8080/"
        },
        "outputId": "76a171c2-8d5e-4653-cb4e-ff8db6a845dd"
      },
      "execution_count": 132,
      "outputs": [
        {
          "output_type": "stream",
          "name": "stdout",
          "text": [
            " All prime numbers between 600 and 800 written to 'prime_600_to_800.txt'.\n"
          ]
        }
      ]
    },
    {
      "cell_type": "markdown",
      "source": [
        "# Q11. WAP to calculate the time taken by a program."
      ],
      "metadata": {
        "id": "2zQ6BolxIyS8"
      }
    },
    {
      "cell_type": "code",
      "source": [
        "import time  # Import time module\n",
        "\n",
        "# Step 1: Record the start time\n",
        "start_time = time.time()\n",
        "\n",
        "# 🔽 Your code block (example: finding sum of 1 to 1 million)\n",
        "total = 0\n",
        "for i in range(1, 1000001):\n",
        "    total += i\n",
        "\n",
        "# Step 2: Record the end time\n",
        "end_time = time.time()\n",
        "\n",
        "# Step 3: Calculate and display the time taken\n",
        "execution_time = end_time - start_time\n",
        "print(f\"✅ Time taken by the program: {execution_time:.4f} seconds\")\n"
      ],
      "metadata": {
        "id": "1jPoPeYqI9Lk",
        "colab": {
          "base_uri": "https://localhost:8080/"
        },
        "outputId": "a1794d3b-8ba5-4d34-89fd-ccc6104fd825"
      },
      "execution_count": 133,
      "outputs": [
        {
          "output_type": "stream",
          "name": "stdout",
          "text": [
            "✅ Time taken by the program: 0.1428 seconds\n"
          ]
        }
      ]
    },
    {
      "cell_type": "markdown",
      "source": [
        "## Q12. WAP to sort following number of elements in a list, calculate time taken and plot the graph.![Screenshot (8).png](data:image/png;base64,iVBORw0KGgoAAAANSUhEUgAAAU4AAAB4CAYAAACdBxttAAAAAXNSR0IArs4c6QAAAARnQU1BAACxjwv8YQUAAAAJcEhZcwAADsMAAA7DAcdvqGQAACKTSURBVHhe7d0JfEzn+gfwX2ayhzShtYVE0HHjVmurJUJIXKnlihSl9iWWyz9oorXVzs1Fw6VVl5YKIRWUFpFaao8gFVlJCRKCJI1ssmfm+Z8zM5FJJLJUlnae7+czH86ZyZx33vOcZ877zsx5dEgAxhhjFaYj3DhxMsZYBYnnmnzGyZiajo6O8qBgrCyFMSJRLzPGGKsgTpyMMVZJf8LEKUfKb+G4n6lerE2KNDwIvoQrEU+Ro15VUTnx4biVoFAv/VVkIjYkFA8r2xmacuIRfisBL3omMxYhoQ8r3b9/Ta+hf2ta1kOE3Uos2p9/EZVInAokXv8e6/7PBX3tesNlxTmkqO9RycO9c7vwb9cBsP/nLHzhc0m9/vWRx/4Cr/GdYP3uFOyNlavX1g75fT98NmMtjl75EZ87ydB+7B7cr0CTFKkh8HF3RJs2fbD6Up567V+D4sF2jO9hi6neTyt/oChSEeLjDsc2bdBn9SUhmpQr8WD7ePSwnQrvp3+1Q09FkbAfs/rYobdDfwwYOBBODr1h16sv+gv/H+jkgN52vTBY3R9/qH8rqTLtKpUiRbU/ZTI4egaW/bg/K/HDoUrJj6EdQ5uSVNeChnnfowL16kKZRyaT7ScXKFe9/Lrl/DKLWhp0oVWRJbdcg+RPabdLMxq4PVlcoN9Pr6SxM3bSrQo2SR63ifoamNPog9nqNXWLPDGYrt+tSv8+pwc3blJcVV+WPI429TUg89EH6cVTPH9AN27GFS2/ijyRgq/ffSkmK6oqh8MfVRDpSR9P2U/3csSlXLr4iYx064+g7zPF5XxKuLCMBk71I+XiH+3fSqhcu8ogf0Ab7A2o4bjDFdt/fwKFMVL5obquJbp1fhuNG6ThyOwxWHP1ufoOFekbZmhsWr/a5gCkJvVhUtsTDHlBOH0pEyamhsKCBA0dl2DP1kn4m1R1d3kkQv+YiF8Eq5MycXXTUuz6rUC9XBkmsOr4HlqI3VIVElPUL9kxJlbo+F4LVOQpM69uwtJdv6EqLa81uh0xYd6HsDZQLxeji0a95sHd+U318h/s38qoVLvKIO5P4zob6H9I1VKQTkO4rN+Cj8yCsXrsHBx+UtrAQYEnN08h4MQJBFy8jVThIfLHv+JnYfnEz0G4n6V+GLLwMOwWxOk+eeo9BAeGIK5w/jIvAVGBlxD6WGNSR0dH+eVT8eunBUm3EBQUiaelzPlkPQ7H5XMX8GtsRrFhTVZcOG4nyZHzOBTXbj9DmaNreQruBV/EhaDbSNQYZ+TGXcPPJ4MQkybH71GnhdcSiLsZ6jtfkoXH4Zdx7sKviM3QaIWk8DWUkPUY4ZfP4cKvsdB8uGqeSJz3kyP1XjACQ+KE9KaSlxCFwEuh0OwilTK2LcgU+iA6WVgn9G9kYCCiEtWpRpGEoM0TMNbrGh7cPImAsxFIEv9UGEbHXD2PizfjkJb8GE9eMb+cEx+GKI1hdZnbKpVE3L0l5CA+LAqaI3VFagyunr+Im3FpSH78ROgLBZKCNmPCWC9ce3ATJwPOIkLZ8LpPKnOC09901UulqQfHQX1hrF4q2b9ZD8NUc+XyVCFeAxFSdPAgISoQl0Ifvzw/XFacaahcuwqQ/NtVnD1zDtfvpWocU0Kca+xP5bEjHv/C7efrcchVry+zPZlxCI9OFvau8FoiAxEYlVhn3hSrfO4mafYRtu1biI6J3pg6fjMiXvRCIQkaWDZHwu5pcJ66A1HCK5Y2aIFG0ZsxZog7/B7n41mwDzz6yfC2/XL4HVqGMaMmYvKwHrDp7oGA4D2YOdgFk6aPQHebXlh25UWmFRASjrvBtqMtHO3ao6WNMzYFq898FU8QsGoqPLadR9j1/fCwk6H34tNIehqEnXP6oo3sH1j+v7UYbmeLHl0nYU+y6s80pQb9FxNHLoBfeByif/JAr3ZOWHk2SZmAKS8TaamZyBfakJ+ZhtTUdOTIX44+xZMArJrqgW3nw3B9vwfsZL2x+LQYBKUR3mQCVmGqxzacD7uO/R52kPVejNNJvyPYxwP9ZG/DfrkfDi0bg1ETJ2NYDxt09whA8J6ZGOwyCdNHdIdNr2Uo7KKytl2QdA3ec8U+GABP3x2Y5jQIo8cNQof2Q7HtrlxISI+RbGSOegoFcjNTkZqWhYK8MGye6IZ9DwuQE7UTY7oPx7cPXg5fRUoIfD/rjzate2PFhRwhB796W+VTICXEF5/1b4PWvVdAeEqlvLDNmOi2Dw8LchC1cwy6D/8WD/JS8TjZCOb1FFDkZgr7JA1ZdeUIe01e6t9nwfDx6AfZ2/ZY7ncIy8aMwsTJw9DDpjs8AoKxZ+ZguEyajhHdbdBr2RXhbVT5LKXHmfjGVlXye/CZ0B3DNoXi96eB8HSSwW5F4faK09W9he1zl+NIrD6at2gIvTLjPgHXvOeibxsZBnj6Ysc0JwwaPQ6DOrTH0G13yz7ZqUnKAXul5FPEahdyOyVOfhTQPe/h1FzXiNrPPUXJcqKcs+7ksixEeJSogKJWdyXDtvPosnrSM/fyPGpr1IP+c0eciZLT468cycC4Oy08/0Q5N5V7Ywl10HuDesw/SY/EJ8kPoSUdDKiV21kSt5h/bSG9o29BQzZfo2ThD56Hf0MjWuqRQZeVFJYvpwTfMdR3QZB6jlVOsRvtSV+vIy0NySd57Ebqoy+0dc5JSkyJpNMBoco2F5PiT9NlNjT3fOGsTCZd8rAh/aaj6Pun6gdn7iZnQzMa6VfGDI88gXzH9KUFQeoXLY+ljfb6pNdxKQnNIEr/jv5pWDTHKU/wpTF9F1DRwzeSvb4edVwq9KP8MX3laEDG3RfS+SfKHqIbSzqQ3hs9aP7JR8p+zg8R+sygFbmdFXqonG0XxKynnvqm1GXOj3RPfEjqQRrTyIDs1sco+1/++CtyNLQgV3/l5BblBs6jdzrMpyBlU+X0dO9q+jJStXdLkj/ZQo4GpvTRflW/lLetl6XTd/801JjjlNOTLUJ8mH5EqqfMpcB571CH+UGq++VPae/qL0nZHGU/GZKFq78yTqqiSofDa1VyLrG4kv2r3FcGxtR94XlShcYN4VjRozd6zKeTqoOHQoRYMWjlRqrQeEWcqVaVoex2Fdz6N3Uz7kwrwlXbu7bwHTLsoI5zSqFvBxoq5zgzky/S2klTaPP1dPEOpVe2pyCG1vfUJ9Muc+hHVfDQwTGNyMBuPcWUHjw1ojBG/uBsoRTW47/B3nntcP+riXD1vlfJdwMJ6pkYQ0ffGp26NBGeDdCXtYGVMEJo0aknLMSRgm5LWDXTQVpKStFvQ6VN8b5jJzQQ/sDkncnwcreDTvgFXPz9Oc4dDkD8b8fg5ekJT8+12JvthOUrx6OzkbA1IyPoS0zRxbEX3jJrB0end9GgRA88O/oNvn/YBu91LJxIMka3kUMh+/0Y9p1IVa8rR9Y5HA6Ix2/HvIQ2CO1YuxfZTsuxcnxnCM14Sda5wwiI/w3HvMQ2e2Lt3mw4LV+J8cpG14OJsQ70rTuhSxNlD0HWxgq6aIFOPS2Ef8UuskIznTSkpAg9VM62pfWE55PWRwcnJ1jrCytMhDP+FhLhLPpZqb+91bWQwSp2A4b0noB/H4qE3sjF+L92pQ/hJPXro57G0Kyy23qZBPXr19OY1tCFhcwKsRuGoPeEf+NQpB5GLv4/lNGcv5yS/SupZwJjHX1Yd+oCVWjI0EZ18KCn6uBBS6tm0ElLgSo0XhFnVSSVzYD3hb1wa/kQ53auxXdBKcJZfzZyNE5iFQkn4T54GbLcvoJbl/rqteW0R1pPyA1S1O/gBCdV8Ahn1y0gSUvFs4oFT7V6DR+zmKH3qu+xcRDh6JyPsfpGaSfpZRN/wlSMjkQ4UDR7RgcSoZXKXF8qCd5qZQ0zHTkKcjOQlJwNA5uh+HThQiwsvC2YiyFtVUdXia2VIEdC3CNkKfKQpzExJCYmC0keUlPSyxhqF6fISEJytgFshn5a1AbhtmDuEKiboUGBjKRkZBvYYOinGm1euABzh7QVQr/4PJFIRyKsKNZFEqEXSLmq3G2/mCNW05FCKj6dovQOllhOwZ5T/8PI+uex5qNOaGs7B4fjynh7FJ9b88krua3SiPFR9BwSWE7Zg1P/G4n659fgo05tYTvnMMpqzl9Oef0rLL0cGoUHT3lxVkUSXWTf3IypM3bi8XuTMcOhKSQldy9lIfHRZXhv+AnxLw6gysa9DqSq4Cn2+mrLa0icAt02mLxzD2a3isD6xXvxSOOVSXWFt8KXXqxwkL/GYM9K+h3Zlh3QqakZmjU1xm2/HTij8SVT+b0TOB5WkUkvKZq93Rqm8kgE/1r0BqDIy0WepLlwFioEhXrdq0hMm6Gp8W347Tij8V1XOe6dOI6XmyGBabOmML7thx3FG40Tx8MqPRleuW2XT/4wAo9aTMTmM7cReXQR3o3bCrc1p4sm9muUHA8jHqHFxM04czsSRxe9i7itblhzunZa8+fyeuOs0HP/T+C8KBkjvlqF0Z0bvUjAmse7pIkzvt41C6aHZ2Li5gh17FRPe2pKlRJnXl4WcnOLp0JJAwd4fv8F+r8hJJkXd0nRyKIJ9OODcPJGAhJvHcfWXZeRXJCEh/d/R4ZwVidXCG9BQmItOpMT/1hIrC+eQ/V/hUIj0wrvYGmp6oMlJxw7fGLwwZI56KFvgn9MGg3rB9swss8YrPzWD4e8PeE6PxAmrVS7lIRdkv+KvfLG4NmY0T4FhzbuRLTy03QFnp46h4c9Z2NmL/V3M/LykE/CWWluGeefJv/ApNHWeLBtJPqMWYlv/Q7B29MV8wNNoGyGXC6kABJek+rvTf4xCaOtH2DbyD4Ys/Jb+B3yhqfrfASatBICUS48Tmi3+rFKyi5SnWEqKf8v9KHYReVsWyFsu0B8I3tx1if+raot4hYkhoYwQDqePH6GpKuXcPOOH9Ztu4EsGKLlwEVYMqIljA0MS5zpqAkNUAhtKWxqedt6mdAvwmsQX2vh/Qq58Pcv4kNInH7rsE0c1Ri2xMBFSzCipTEMDIXWSAxhKOye9CeP8SzpKi6FVW7kUzcQ8oXYooI8lBpaJfpXOHiEftFYFqhC40VkqP4vPEAVGq+Ks1cpq10KpMXcQ8LzOETff46ch+dx9MoTyLPS8OTmVUQ8F9onPF4hJ5g5/Bs+K97Fjc/HYIH6Q9JXtkd4rfIC4bVpnHSJL0UZG8XaUEuUM50VVRBHl/d9QeP+bkJW/1xGO05Fl/gCrJwST3xCY9ZoTDanX6LV/7AkU1ML6jhiHZ31/5Q6v21PE5b70IXAI7RsgAVJdVvRsLVHKTz2Jv2waghZSnWplYsnHQm9T8F+S2mghZR0rV3I88Rdys28Qz+tHkv27/cm54mzaPbUmbTqaIzGF2wzKcrHjRzamJOBvilZ9pxGuyIySZ58g3wX9qOmUilZOC0m3+DfhdaWLv/BT7R4SGfq2GcUTf3XZBo3YwOdT1A9Ov/eGfp6th01lEioUd9PaduBK/SotMnqzCjycXOgNuYGpG9qST2n7SKhGUTZt+nYUidqIrTDauga+jFCNVmeGeVDbg5tyNxAn0wte9K0XRHCK3lOUT8towHi6281jNYeDafYmz/QqiGWyj5z8TxCofeDyW/pQLIQ+sxa6LMTd3PL3nZqGB1a5EiNpHokG+VF/pHRdHHnbLI1k5BxR1f65lK8sI/v0ncfy8i8oYyGegVR8uVFZNu6A/Wb+BktX7mApk3zpDOFH5Jpeh5FR5cNoGZCO1oKr+t4cHD52yomm24fW0pOTaQktRpKa36MEJ7yqBAfzYTX2pKGrjlO0Tm5dHmRLbXu0I8mfracVi6YRtM8z5CqOQV097uPSWbekGRDvSgoQ/mklVLZw+G1yo2hs7vW0Iet9UhH0oj6uG+lo+EpRTFasn9DbtJPwrK431sNWys8NpZu/rCKhliKsSIcK0dC6X6wHy0dKB5f1kKsnCBVaJQWZ69QTrvk8YdpdtcmVN+8NfV23Upnd08kK7NWNPg/x+mXvQupn7A/dVsNp3XHIikxbB31MdUhifn7NHXDcbolbLj09qRS2KFF5NhISnqyUeTlH0nRF3fSbFszkhh3JNdvLlF8KSFYEwpjhC8rx5gaX1aOlYcvK8cYY1XEiZMxxipJnOPnsQljjFWQOFTnOU7G1HiOk5WH5zgZY6yKOHEyxlglceKsK/6iJQYY+yviOc4apEg8jHmjvXA1W+xyHei/MwPeWwYh+ftVmLdgK8IcfPFw99AKXbSXvX5aNcepSMB+t5H4MlwCYxND6Cpy8DwzH1Lj+jDSlSPneSbyTT+A5w+fw068xkbeE1zevR5rNj2Eyy8HMPUt1dNoG57jrHF5CN26A8GmLWBpaQlLK2vYOtmjua45Oo6eg8FtxB8jMlZDKBn3U9pgtvcJnDzhjyNLOiDhaijemnIQ/v4/4+RBTzhSHJ4of56chegL53Dj8s84faf4hcG1FSfOGqJIOoJtD4Zgz0Ff+PoKt317sObDFqod8BcuMcDqKl10nDAPH5ZeGwO6jXphnrszVMUxjNG238eY6tIV5hymSpw4a0QBIraux+79n8Op72gs2RcKsZRIkeKX0CqzxABjr4tUBienv73y4h71HAehb2HNDoGOni70OHEqceKsCYp0ZLcaDg/X/rB4egKeY23RfbJvmeWEXy4xwBirSzhx1gRJA3QbOx+rNvvgTGQkAhZ3QbLPLLjtjHtpvkjx7BK8Pr+IPntPY9sMR/y9iQnvJMbqGD4ma5puM/Rb4YsNzno4/+MpjYsNix90ll5igDFWt3DirA2SZnAZYQ+jrOfI0jzlLLXEAGOsruHEWUvkch1Yv98VjTX2QOklBhhjdQ0nzpqQcx8X/a8grjATpl3D1/4NMW9ON4jfLRYG6a8sMcBYdaP8PORRQdnlYAQklnwhsbwJRyUnzhpQEHMQi0b1Qvt3HTFq/DiMnvsDLBd/gRHNhO5XJOL6vi/gdzMfGUG++PJ4DJr0H4B3peHY/NEAzNjoj9t/xvI57E8iD/fOecPrqwDEK3Jx5btl+N+xiBJfl5MjPnAfNu2+jOT8cBzauAOn72r3eIh/cllDsuJDERydCiOr9ujYukE5xbFYbeDLyrHyFMYIJ07G1DhxsvLwb9UZY6yKuHQGY4xVAg/VGdPAQ3VWHh6qM8ZYFXHiZIyxSuLEWVdxKQ3G6ixOnNUo78llfOs+EO1HfIMk9boiaQjeNhNjJs+Fx/SxcPW6hGdillSkIMTHHY4yGRw9A5GnejBjr5dYOmNWH9j1dkD/AQMx0MkBve16oW9/4f8DneDQ2w69Bq/GJTEAM8Owc1ovWJsbwsDMCraTtuBq8W/Iax1OnNUlKxoXzt3A5Z9P405GySBTIH7vNIz0tsCC7f+F19cr0N5/PKbsioVcwqU0WA2ocOmMLJxf4Y6D5hPw5YFD2DarHR7tm4MP/3UACVqcOzlxVhfjtuj38VS4dDVXfuermLyr2LT6KBo7j0Q78SdEUmuMGNYap9Z8gQs5wjKX0mDVroKlM3ICEdJkJQ6sdcXgfoMwcc0BfOfaEon+B3E2W/1gLcSJs1rpQE9X76XEmRdyBMdi6kFm0xxS5RoJGrazQeNHJ3E0WBwbcSkNVs0qWjqjQT/MdbeFiXqdsBZdu9hAT98Ihqrg1UqcOGtBVlQUHuAtNGlS1P3SN9+EOcUiOjpTvaYIl9JgdUcB7j14goYfOMNei+tYc+KscQqkpaZDDmOYmBS9ZetIpcLOIGSmpxf7JJ1LabA6JesK9gSYw32RM8zVq7QRH4O1wNBQnFeiYr9Sodw85AtDdANj4xc7hUtpsLolByGbNiLedQvcbLT7+l6cOGucBGbWLYWBejpSUorOLeUpyUjFm2jZ0lS9RsClNFidoUDSz6vxZe5sbJki0/rLInLirAUG3R1h98YT3LmToV4DpMfcR9IbdnDsWvQpJ5fSYHVFxvXNWHq2M1Ys6YMGnDU4cVYvglwuV5Uc0DxjNHOG22Rr3Dx5Cs+UK57hl9OhkE13h7Ny4ohLabCa9arSGRnBG+G6+jHsBzdF/PUgBF25hIBdCzDnqzD1I7SQeHUkVg0KHtHlvf+hETI9kjZ2oM+2n6I7Oer7RBnXaYOLA41bv5e8V35MThO+oYhsYb08ga7tXUj9mkhJt9VwWncskhLD1lEfUx2SmL9PUzccp1uZqqdgr5d2Hg65FHN2F635sDXp6UioUR932no0nFLkqnvzQzeSYyMp6YhnARo3Hf1utCaqQPUgLVIYI3xZuVqVibiQm4g3fBudbRqpC7ex2sKXlWPlKYwRTpyMqXHiZOXh63EyxlgViT/s47dYxhirIB6qM6aBh+qsPDxUZ4yxKuLEyRhjlcSJs67i0hmM1VmcOKvRq0tnAIrEw3DvZ4eePXsKNzv0ne6DuAIuncFqQGVKZ8hjcXieI9qYG8DArBUcPI4gTq56Gm3FibO6vLJ0higPoVt3INi0BSwtLWFpZQ1bJ3s01+XSGawGVLh0RgHCd2zGrx1WI+DXa/Cd2Rxhm6fi0wOqHwtrK06c1eVVpTMEiqQj2PZgCPYc9IWvr3DbtwdrPmyh2iFcOoNVuwqWzkA2TPvPx8qxPdCm1Xv4cNlyjGr+HI/inkGbTzo5cVar0ktniFfRjti6Hrv3fw6nvqOxZF8oihcN5NIZrJpVtHSGcX1YtWxUlCjk2cgx7o1RQ63VZV+0EyfO2qBIR3ar4fBw7Q+LpyfgOdYW3Sf74n4Zb+FcOoPVCYoUBG3ciZw5X2OmTJvTJifO2iFpgG5j52PVZh+ciYxEwOIuSPaZBbedcS99is6lM1hdII8/gy8mOGDA0sPw/XQE5vknaPU3PvgYrG26zdBvhS82OOvh/I+nkKJeLeLSGayukFo4Yt6eYERf3oghZuHYMn8Tfi1Q36mFOHHWBZJmcBlhD6Os58jSfBvn0hmsTpGiUXc3fL3ECUb3o3FHi78rx4mzjpDLdWD9flc01tgjXDqD1T0SNHynHSxbWMFSiwsPceKsVmWUzsi5j4v+VxBXmAnTruFr/4aYN6eb+mLGXDqD1ayyS2cokPH0CVJfDMtzcev0TVi4TkF3Lb7yNifO6iKPR+C+Tdh9ORn54Yewccdp3FUnyoKYg1g0qhfav+uIUePHYfTcH2C5+AuMaCbsDkUiru/7An4385ER5Isvj8egSf8BeFcajs0fDcCMjf64naV6Hsb+uDzcO+cNr68CEK/IxZXvluF/xyKKvh6XE4BPOlvCsp0Tpi5cigWzZmCL7nx4f/J3ra50yZeVqyVZ8aEIjk6FkVV7dGzdQOvLrdYFfFm50uUmRCI44inyTZqg7bt/R1Nj9R1aqDBGOHEypsaJk5WHr8fJGGNVxImTMcYqiWsOMcZYJfAcJ2MaeI6TlYfnOBljrIo4cdZVXDqDsTqLE2c1yQzbiWm9rGFuaAAzK1tM2nK1xDU30xC8bSbGTJ4Lj+lj4ep1Cc/E+xVcOoPVgMqUztCUcR4e7c3wz+/S1Cu0EyfO6pB1HivcD8J8wpc4cGgbZrV7hH1zPsS/DhReikuB+L3TMNLbAgu2/xdeX69Ae//xmLIrFnIJl85gNaDCpTPUj1dKxellc/FtdI56WXtx4qwGOYEhaLLyANa6Dka/QROx5sB3cG2ZCP+DZ5EtPiDvKjatPorGziPRTvzJkNQaI4a1xqk1X+CCGJNcOoNVu4qWziikwLMTK7Fdfwg+MOO0wT1QDQz7zYW7rYl6SVCvK7rY6EHfyFBZbiAv5AiOxdSDzKa5uvyABA3b2aDxo5M4GiyOjbh0BqtmFS6dofq/IvEYlns3wKfzO8OI39M5cdaIgnt48KQhPnC2h6GwmBUVhQd4C02aFHW/9M03YU6xiI7OVK8pwqUzWK1SPMXhlX5osfBTvG+kXqflOHHWgKwrexBg7o5FzubCkgJpqemQwxgmJkV1W3SkUmFnEDLT04t9ks6lM1jtUiD+wAr81HYRPnmv9GG9NuJjsLrlhGDTxni4bnGDjXpcZGgoBiAV+7I15eYhXxiiGxgbv9gpXDqD1TZ57F6sPNUJS2a24yt4aeDEWZ0USfh59ZfInb0FU2SFYSeBmXVLYaCejpSUonNLeUoyUvEmWrY0Va8RcOkMVqsUePjDt9i1Yxre1hXn3YWbkTO8E7NxbLIZ9Hv8B9FaWlydE2e1ycD1zUtxtvMKLOnToFhHG3R3hN0bT3DnToZ6DZAecx9Jb9jBsWvRcIhLZ7DaJUHziT4Iv30btwtv4dsxrKEhHNaGIGL/dFhraZVgTpzVIgPBG12x+rE9BjeNx/WgIFy5FIBdC+bgq7ACwMwZbpOtcfPkKTxTPv4ZfjkdCtl0dyinQYV3ei6dwWpSWaUzdM1bQNa2LdoW3to0Rj2pDozfsobM0lxd6kULiRf5YK9TPoVudKRGUh1xAlPjpkP63dZQVIH6YRnXaYOLA41bv5e8V35MThO+oYhsYb08ga7tXUj9mkhJt9VwWncskhLD1lEfUx2SmL9PUzccp1uZqqdgr5d2Hg65FHN2F635sDXp6UioUR932no0nFLk6rtLyv6RJjQyosE7U9UrtEthjPDVkWpVJuJCbiLe8G10tmmkve/edQRfHYmVpzBGOHEypsaJk5WHLyvHGGNVxImTMcYqiUtnMMZYJfAcJ2MaeI6TlYfnOBljrIo4cdZVXDqDsTqLh+rVRCyd8cmsVThw/TGocWe4fLYRG//VDZrXgFUkHsa80V64mi3uAh3ovzMD3lsGIfn7VZi3YCvCHHzxcPdQ5aXoWPXTqqG6WDrDbSS+DJfA2MQQuoocPM/Mh9S4Pox05ch5nol80w/g+cPnsBO/YKxIxOF5o+F1NVv5oYiO/juY4b0VYy2169yLh+rVqdzSGaI8hG7dgWDTFrC0tISllTVsnezRXJdLZ7AaUMnSGXmhW7Ej2BQtxFi1tIK1rRPsm2tx+hDPONnrlX1qI3ldfq5eEmScppmtdcl0uC8VrpUn7qfpE7fRg1J/2vaMvhlgSA3HHSbxV5isZmjV4VAQTQEBtyhfvZh78ROS6danEd8X/Z434/Qx+kVclCfS/ukTaVvpwapVCmOEzzirQXmlM4ACRGxdj937P4dT39FYsi+0RAVMLp3BqlklSmcURGzF+t378blTX4xesg+hxYNVK3HirAklSmdAkY7sVsPh4dofFk9PwHOsLbpP9sX9Mq5tyKUzWO1RID27FYZ7uKK/xVOc8BwL2+6T4VtWsGoL5Xknq1aZFzyoa78NFFU4LtKUH0+nPu9Nb0rNadD2WFINhlLo24GqoXpm8kVaO2kKbb6erryHVR9tPhxKG6q/LJ/iT31Ovd+Ukvmg7RSrhSP3whjhM87qVkrpjGJ0m6HfCl9scNbD+R9PIUW9WsSlM1jdootm/VbAd4Mz9M7/iFOawaplOHFWp1JLZ5RC0gwuI+xhlPUcWZrTR1w6g9U5EjRzGQF7oyw8Lxas2oUTZ7Upu3RGaeRyHVi/3xWNNR7IpTNYnSSXQ8f6fXTVDFYtw4mzWpRTOiPnPi76X0FcYSZMu4av/Rti3pxu6osZc+kMVrPKKp0hBCvuX/THlaJgxbWv/dFw3hx00+YrbytnOtlrVH7pjPyIdWRXX0qmMgcaOW4sfTxxPvlEqifluXRGrdHOw6Gc0hn5EbTOrj5JTWXkMHIcjf14Is33iSRtDcHCGOGfXNaSrPhQBEenwsiqPTq2bsA1q+sAvjpSGbLiERocjVQjK7Tv2BoNtDhYC2OEEydjapw4WXn4t+qMMVZFnDgZY6ySuHQGY4xVAs9xMsZYFfBQnTHGKokTJ2OMVQrw/0a9WmbhTHm/AAAAAElFTkSuQmCC)"
      ],
      "metadata": {
        "id": "cQPqaqsMJP0_"
      }
    },
    {
      "cell_type": "code",
      "source": [
        "import random\n",
        "import time\n",
        "import matplotlib.pyplot as plt\n",
        "\n",
        "# Step 1: Define the sizes of lists\n",
        "list_sizes = [5000, 10000, 15000, 20000, 25000]\n",
        "time_taken = []\n",
        "\n",
        "# Step 2: Loop over each size and measure sorting time\n",
        "for size in list_sizes:\n",
        "    # Generate a random list of the given size\n",
        "    data = [random.randint(1, 1000000) for _ in range(size)]\n",
        "\n",
        "    # Measure the time before and after sorting\n",
        "    start_time = time.time()\n",
        "    data.sort()  # Built-in efficient sorting\n",
        "    end_time = time.time()\n",
        "\n",
        "    # Calculate elapsed time\n",
        "    elapsed = end_time - start_time\n",
        "    time_taken.append(elapsed)\n",
        "\n",
        "    print(f\"Sorted list of {size} elements in {elapsed:.5f} seconds\")\n",
        "\n",
        "# Step 3: Plot the graph\n",
        "plt.plot(list_sizes, time_taken, marker='o', linestyle='-', color='blue')\n",
        "plt.title(\"Sorting Time vs List Size\")\n",
        "plt.xlabel(\"Number of Elements in List\")\n",
        "plt.ylabel(\"Time Taken (in seconds)\")\n",
        "plt.grid(True)\n",
        "plt.show()\n"
      ],
      "metadata": {
        "id": "pYDBgAPXKwRq",
        "colab": {
          "base_uri": "https://localhost:8080/",
          "height": 559
        },
        "outputId": "03618580-b678-48ea-cfaa-8e966072c3bd"
      },
      "execution_count": 134,
      "outputs": [
        {
          "output_type": "stream",
          "name": "stdout",
          "text": [
            "Sorted list of 5000 elements in 0.00076 seconds\n",
            "Sorted list of 10000 elements in 0.00169 seconds\n",
            "Sorted list of 15000 elements in 0.00341 seconds\n",
            "Sorted list of 20000 elements in 0.00403 seconds\n",
            "Sorted list of 25000 elements in 0.00480 seconds\n"
          ]
        },
        {
          "output_type": "display_data",
          "data": {
            "text/plain": [
              "<Figure size 640x480 with 1 Axes>"
            ],
            "image/png": "[encoded data removed]"
          },
          "metadata": {}
        }
      ]
    },
    {
      "cell_type": "markdown",
      "source": [
        "# Q13: WAP to create a dictionary of student marks in five subjects and find the student having maximum and minimum average marks.\n"
      ],
      "metadata": {
        "id": "lSaLcK2CK2C9"
      }
    },
    {
      "cell_type": "code",
      "source": [
        "# Step 1: Define the dictionary of student marks\n",
        "students = {\n",
        "    \"Alice\": [85, 90, 78, 92, 88],\n",
        "    \"Bob\": [70, 65, 72, 68, 74],\n",
        "    \"Charlie\": [95, 98, 97, 96, 94],\n",
        "    \"David\": [60, 58, 64, 62, 59],\n",
        "    \"Eve\": [80, 82, 84, 79, 81]\n",
        "}\n",
        "\n",
        "# Step 2: Create a dictionary to store average marks\n",
        "average_marks = {}\n",
        "\n",
        "# Step 3: Calculate average for each student\n",
        "for name, marks in students.items():\n",
        "    avg = sum(marks) / len(marks)\n",
        "    average_marks[name] = avg\n",
        "\n",
        "# Step 4: Find student with max and min average\n",
        "max_student = max(average_marks, key=average_marks.get)\n",
        "min_student = min(average_marks, key=average_marks.get)\n",
        "\n",
        "# Step 5: Display the results\n",
        "print(\"Average marks of each student:\")\n",
        "for name, avg in average_marks.items():\n",
        "    print(f\"{name}: {avg:.2f}\")\n",
        "\n",
        "print(f\"\\nStudent with Highest Average: {max_student} ({average_marks[max_student]:.2f})\")\n",
        "print(f\"Student with Lowest Average: {min_student} ({average_marks[min_student]:.2f})\")\n"
      ],
      "metadata": {
        "id": "oLgymYL9LQv0",
        "colab": {
          "base_uri": "https://localhost:8080/"
        },
        "outputId": "0330acef-4b9f-4dff-a9ab-1224dd898607"
      },
      "execution_count": 135,
      "outputs": [
        {
          "output_type": "stream",
          "name": "stdout",
          "text": [
            "Average marks of each student:\n",
            "Alice: 86.60\n",
            "Bob: 69.80\n",
            "Charlie: 96.00\n",
            "David: 60.60\n",
            "Eve: 81.20\n",
            "\n",
            "Student with Highest Average: Charlie (96.00)\n",
            "Student with Lowest Average: David (60.60)\n"
          ]
        }
      ]
    },
    {
      "cell_type": "code",
      "metadata": {
        "id": "e34b2069"
      },
      "source": [
        "S1 = {10, 20, 30, 40, 50, 60}\n",
        "S2 = {40, 50, 60, 70, 80, 90}"
      ],
      "execution_count": 136,
      "outputs": []
    }
  ]
}